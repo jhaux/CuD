{
 "cells": [
  {
   "cell_type": "code",
   "execution_count": null,
   "metadata": {
    "collapsed": true
   },
   "outputs": [],
   "source": [
    "import numpy as np\n",
    "\n",
    "def amp(f_0, w_0, w, y):\n",
    "    return float(f_o) / \\\n",
    "           float((w_0**2 - w**2)**2 + (y*w)**2)\n",
    "\n",
    "def U_d(U_B, z, g_d, C_d, C_L):\n",
    "    return U_B * float(z * C_d) / float(g_d * C_L)\n",
    "\n",
    "def F()"
   ]
  }
 ],
 "metadata": {
  "kernelspec": {
   "display_name": "Python 2",
   "language": "python",
   "name": "python2"
  },
  "language_info": {
   "codemirror_mode": {
    "name": "ipython",
    "version": 2
   },
   "file_extension": ".py",
   "mimetype": "text/x-python",
   "name": "python",
   "nbconvert_exporter": "python",
   "pygments_lexer": "ipython2",
   "version": "2.7.9"
  }
 },
 "nbformat": 4,
 "nbformat_minor": 0
}
